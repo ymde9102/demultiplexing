{
 "cells": [
  {
   "cell_type": "code",
   "execution_count": 3,
   "metadata": {
    "collapsed": false
   },
   "outputs": [
    {
     "data": {
      "text/plain": [
       "['Forward primer',\n",
       " 'Reverse primer',\n",
       " 'Sample',\n",
       " 'Unnamed: 3',\n",
       " 'Forward primer.1',\n",
       " 'Reverse primer.1',\n",
       " 'Sample.1',\n",
       " 'Unnamed: 7',\n",
       " 'Primer name',\n",
       " 'Barcode',\n",
       " '\"Spacer\"',\n",
       " 'Primer',\n",
       " 'Unnamed: 12',\n",
       " 'Complete sequence.',\n",
       " 'Unnamed: 14']"
      ]
     },
     "execution_count": 3,
     "metadata": {},
     "output_type": "execute_result"
    }
   ],
   "source": [
    "import pandas\n",
    "\n",
    "primer_sheet = pandas.read_csv(\"Primers_and_pairs_plus_switched.csv\", header=5, skip_blank_lines=5)\n",
    "list(primer_sheet)"
   ]
  },
  {
   "cell_type": "markdown",
   "metadata": {},
   "source": [
    "Need to drop some of the columns as they are specifications for other experiments."
   ]
  },
  {
   "cell_type": "code",
   "execution_count": 28,
   "metadata": {
    "collapsed": false
   },
   "outputs": [],
   "source": [
    "primer_sheet = primer_sheet.drop({'Unnamed: 3','Unnamed: 7', \n",
    "                                  'Unnamed: 12', 'Unnamed: 14', \n",
    "                                  'Forward primer.1', 'Reverse primer.1',\n",
    "                                  'Sample.1'}, axis=1)\n",
    "primer_sheet.rename(columns={'Forward primer': 'f_primer_ymke1',\n",
    "                            'Reverse primer' : 'r_primer_ymke1',\n",
    "                            'Sample' : 'sample_ymke1'}, inplace=True)"
   ]
  },
  {
   "cell_type": "code",
   "execution_count": 29,
   "metadata": {
    "collapsed": false
   },
   "outputs": [
    {
     "data": {
      "text/plain": [
       "['f_primer_ymke1',\n",
       " 'r_primer_ymke1',\n",
       " 'sample_ymke1',\n",
       " 'Primer name',\n",
       " 'Barcode',\n",
       " 'Spacer',\n",
       " 'Primer',\n",
       " 'Complete sequence.']"
      ]
     },
     "execution_count": 29,
     "metadata": {},
     "output_type": "execute_result"
    }
   ],
   "source": [
    "list(primer_sheet)"
   ]
  },
  {
   "cell_type": "code",
   "execution_count": 30,
   "metadata": {
    "collapsed": false
   },
   "outputs": [
    {
     "data": {
      "text/plain": [
       "dict_keys(['IllB_77_L_341F_BA', 'IllB_92_L_341F_BA', 'IllA_97_L_805R_BA', 'IllB_53_L_341F_BA', 'IllA_81_L_805R_BA', 'IllA_92_L_805R_BA', 'IllB_79_L_341F_BA', 'IllA_52_L_805R_BA', 'IllB_85_L_341F_BA', 'IllB_59_L_341F_BA', 'IllA_44_L_805R_BA', 'IllB_94_L_341F_BA', 'IllB_8_L_341F_BA', 'IllB_84_L_341F_BA', 'IllA_56_L_805R_BA', 'IllB_81_L_341F_BA', 'IllB_62_L_341F_BA', 'IllB_40_L_341F_BA', 'IllB_63_L_341F_BA', 'IllB_68_L_341F_BA', 'IllA_96_L_805R_BA', 'IllA_86_L_805R_BA', 'IllA_82_L_805R_BA', 'IllA_91_L_805R_BA', 'IllA_48_L_805R_BA', 'IllB_61_L_341F_BA', 'IllA_85_L_805R_BA', 'IllA_57_L_805R_BA', 'IllA_71_L_805R_BA', 'IllA_69_L_805R_BA', 'IllB_57_L_341F_BA', 'IllA_78_L_805R_BA', 'IllB_56_L_341F_BA', 'IllA_70_L_805R_BA', 'IllA_93_L_805R_BA', 'IllA_94_L_805R_BA', 'IllB_54_L_341F_BA', 'IllA_43_L_805R_BA', 'IllA_42_L_805R_BA', 'IllB_98_L_341F_BA', 'IllB_42_L_341F_BA', 'IllA_88_L_805R_BA', 'IllA_83_L_805R_BA', 'IllB_43_L_341F_BA', 'IllA_95_L_805R_BA', 'IllA_84_L_805R_BA', 'IllB_7_L_341F_BA', 'IllB_39_L_341F_BA', 'IllB_82_L_341F_BA', 'IllB_96_L_341F_BA', 'IllB_93_L_341F_BA', 'IllB_51_L_341F_BA', 'IllA_61_L_805R_BA', 'IllB_74_L_341F_BA', 'IllA_79_L_805R_BA', 'IllB_99_L_341F_BA', 'IllB_70_L_341F_BA', 'IllB_37_L_341F_BA', 'IllB_9_L_341F_BA', 'IllB_78_L_341F_BA', 'IllA_5_L_805R_BA', 'IllA_6_L_805R_BA', 'IllB_41_L_341F_BA', 'IllA_77_L_805R_BA', 'IllA_87_L_805R_BA', 'IllB_80_L_341F_BA', 'IllA_72_L_805R_BA', 'IllA_60_L_805R_BA', 'IllA_62_L_805R_BA', 'IllB_52_L_341F_BA', 'IllA_68_L_805R_BA', 'IllA_9_L_805R_BA', 'IllA_51_L_805R_BA', 'IllB_76_L_341F_BA', 'IllA_7_L_805R_BA', 'IllB_48_L_341F_BA', 'IllA_63_L_805R_BA', 'IllB_95_L_341F_BA', 'IllA_67_L_805R_BA', 'IllB_4_L_341F_BA', 'IllA_53_L_805R_BA', 'IllB_60_L_341F_BA', 'IllB_72_L_341F_BA', 'IllA_66_L_805R_BA', 'IllB_58_L_341F_BA', 'IllA_80_L_805R_BA', 'IllA_58_L_805R_BA', 'IllA_74_L_805R_BA', 'IllA_54_L_805R_BA', 'IllA_76_L_805R_BA', 'IllB_73_L_341F_BA', 'IllB_69_L_341F_BA', 'IllB_45_L_341F_BA', 'IllB_6_L_341F_BA', 'IllB_83_L_341F_BA', 'IllA_8_L_805R_BA', 'IllB_75_L_341F_BA', 'IllA_98_L_805R_BA', 'IllA_99_L_805R_BA', 'IllB_49_L_341F_BA'])"
      ]
     },
     "execution_count": 30,
     "metadata": {},
     "output_type": "execute_result"
    }
   ],
   "source": [
    "primer_dict = dict(zip(primer_sheet['Primer name'], primer_sheet['Complete sequence.']))\n",
    "primer_dict.viewkeys()"
   ]
  },
  {
   "cell_type": "markdown",
   "metadata": {},
   "source": [
    "### Create Matrix file as required by QIIME"
   ]
  },
  {
   "cell_type": "markdown",
   "metadata": {},
   "source": [
    "There is a page at [QIIME](http://qiime.org/1.7.0/documentation/file_formats.html) website that helps deal with this. It is not tolerant of deviations, so one has to make sure it is properly formatted ( it can only check so many things though )."
   ]
  },
  {
   "cell_type": "markdown",
   "metadata": {},
   "source": [
    "The forward and reverse primer information then needs to be mapped to the keys juset generated. \n",
    "\n",
    "If one looks at the original sheet, there is a description of the primers used and their sequences, as well as how these were then used in the sequencing experiments. Ideally, these should have been two files, a reference file to show what was used, and another to show how it was used. It is often a good idea to separate data like this."
   ]
  },
  {
   "cell_type": "code",
   "execution_count": 31,
   "metadata": {
    "collapsed": false
   },
   "outputs": [],
   "source": [
    "primer_sheet['ReversePrimer'] = primer_sheet['r_primer_ymke1'].map(primer_dict)"
   ]
  },
  {
   "cell_type": "code",
   "execution_count": 32,
   "metadata": {
    "collapsed": true
   },
   "outputs": [],
   "source": [
    "primer_sheet['LinkerPrimerSequence'] = primer_sheet['f_primer_ymke1'].map(primer_dict)"
   ]
  },
  {
   "cell_type": "code",
   "execution_count": 33,
   "metadata": {
    "collapsed": false
   },
   "outputs": [
    {
     "name": "stdout",
     "output_type": "stream",
     "text": [
      "      f_primer_ymke1     r_primer_ymke1 sample_ymke1        Primer name  \\\n",
      "0  IllB_98_L_341F_BA  IllA_99_L_805R_BA          1:1  IllA_87_L_805R_BA   \n",
      "1  IllB_99_L_341F_BA  IllA_98_L_805R_BA          2:1  IllA_88_L_805R_BA   \n",
      "2  IllB_96_L_341F_BA  IllA_97_L_805R_BA          3:1  IllA_86_L_805R_BA   \n",
      "3  IllB_95_L_341F_BA  IllA_96_L_805R_BA          4:1  IllA_94_L_805R_BA   \n",
      "4  IllB_94_L_341F_BA  IllA_95_L_805R_BA          1:2  IllB_94_L_341F_BA   \n",
      "\n",
      "  Barcode Spacer                 Primer            Complete sequence.  \\\n",
      "0    ACTA    CAC  GACTACHVGGGTATCTAATCC  ACTACACGACTACHVGGGTATCTAATCC   \n",
      "1    ACTA    CGT  GACTACHVGGGTATCTAATCC  ACTACGTGACTACHVGGGTATCTAATCC   \n",
      "2    ACTA    TGC  GACTACHVGGGTATCTAATCC  ACTATGCGACTACHVGGGTATCTAATCC   \n",
      "3    ACTC    AGT  GACTACHVGGGTATCTAATCC  ACTCAGTGACTACHVGGGTATCTAATCC   \n",
      "4    ACTC    AGT      CCTACGGGNGGCWGCAG      ACTCAGTCCTACGGGNGGCWGCAG   \n",
      "\n",
      "                  ReversePrimer      LinkerPrimerSequence  \n",
      "0  ACTGAGAGACTACHVGGGTATCTAATCC  ACTGACTCCTACGGGNGGCWGCAG  \n",
      "1  ACTGACTGACTACHVGGGTATCTAATCC  ACTGAGACCTACGGGNGGCWGCAG  \n",
      "2  ACTGATCGACTACHVGGGTATCTAATCC  ACTGTGTCCTACGGGNGGCWGCAG  \n",
      "3  ACTGTGTGACTACHVGGGTATCTAATCC  ACTCGATCCTACGGGNGGCWGCAG  \n",
      "4  ACTCGATGACTACHVGGGTATCTAATCC  ACTCAGTCCTACGGGNGGCWGCAG  \n"
     ]
    }
   ],
   "source": [
    "print(primer_sheet[0:5])"
   ]
  },
  {
   "cell_type": "code",
   "execution_count": 34,
   "metadata": {
    "collapsed": false
   },
   "outputs": [],
   "source": [
    "primer_sheet = primer_sheet.drop({'Primer', 'Primer name', 'Complete sequence.', 'Barcode', 'Spacer'}, axis=1)\n",
    "# drop the empty rows\n",
    "primer_sheet = primer_sheet.dropna(how='all')"
   ]
  },
  {
   "cell_type": "code",
   "execution_count": 35,
   "metadata": {
    "collapsed": false
   },
   "outputs": [
    {
     "name": "stdout",
     "output_type": "stream",
     "text": [
      "       f_primer_ymke1     r_primer_ymke1 sample_ymke1  \\\n",
      "48  IllB_37_L_341F_BA  IllA_42_L_805R_BA         T1:1   \n",
      "49  IllB_85_L_341F_BA  IllA_91_L_805R_BA         T1:2   \n",
      "\n",
      "                   ReversePrimer      LinkerPrimerSequence  \n",
      "48  TCAGAGAGACTACHVGGGTATCTAATCC  TCACAGTCCTACGGGNGGCWGCAG  \n",
      "49  ACTCTACGACTACHVGGGTATCTAATCC  ATGCGATCCTACGGGNGGCWGCAG  \n"
     ]
    }
   ],
   "source": [
    "# see how big it is\n",
    "print(primer_sheet[48:55])"
   ]
  },
  {
   "cell_type": "markdown",
   "metadata": {},
   "source": [
    "Use the `LinkerPrimerSequence` to extract the barcode + spacer sequence for each sample."
   ]
  },
  {
   "cell_type": "code",
   "execution_count": 36,
   "metadata": {
    "collapsed": false
   },
   "outputs": [],
   "source": [
    "for index, row in primer_sheet.iterrows():\n",
    "    new_value = row['LinkerPrimerSequence'][0:7]\n",
    "    primer_sheet.loc[index, 'BarcodeSequence'] = new_value    "
   ]
  },
  {
   "cell_type": "code",
   "execution_count": 37,
   "metadata": {
    "collapsed": false,
    "scrolled": true
   },
   "outputs": [
    {
     "data": {
      "text/html": [
       "<div>\n",
       "<table border=\"1\" class=\"dataframe\">\n",
       "  <thead>\n",
       "    <tr style=\"text-align: right;\">\n",
       "      <th></th>\n",
       "      <th>f_primer_ymke1</th>\n",
       "      <th>r_primer_ymke1</th>\n",
       "      <th>sample_ymke1</th>\n",
       "      <th>ReversePrimer</th>\n",
       "      <th>LinkerPrimerSequence</th>\n",
       "      <th>BarcodeSequence</th>\n",
       "    </tr>\n",
       "  </thead>\n",
       "  <tbody>\n",
       "    <tr>\n",
       "      <th>45</th>\n",
       "      <td>IllB_40_L_341F_BA</td>\n",
       "      <td>IllA_48_L_805R_BA</td>\n",
       "      <td>T0:2</td>\n",
       "      <td>TCGCATAGACTACHVGGGTATCTAATCC</td>\n",
       "      <td>TCAGTCACCTACGGGNGGCWGCAG</td>\n",
       "      <td>TCAGTCA</td>\n",
       "    </tr>\n",
       "    <tr>\n",
       "      <th>46</th>\n",
       "      <td>IllB_4_L_341F_BA</td>\n",
       "      <td>IllA_44_L_805R_BA</td>\n",
       "      <td>T0:3</td>\n",
       "      <td>TCGTAGAGACTACHVGGGTATCTAATCC</td>\n",
       "      <td>TATCGCACCTACGGGNGGCWGCAG</td>\n",
       "      <td>TATCGCA</td>\n",
       "    </tr>\n",
       "    <tr>\n",
       "      <th>47</th>\n",
       "      <td>IllB_39_L_341F_BA</td>\n",
       "      <td>IllA_43_L_805R_BA</td>\n",
       "      <td>T0:4</td>\n",
       "      <td>TCAGCTAGACTACHVGGGTATCTAATCC</td>\n",
       "      <td>TCACGATCCTACGGGNGGCWGCAG</td>\n",
       "      <td>TCACGAT</td>\n",
       "    </tr>\n",
       "    <tr>\n",
       "      <th>48</th>\n",
       "      <td>IllB_37_L_341F_BA</td>\n",
       "      <td>IllA_42_L_805R_BA</td>\n",
       "      <td>T1:1</td>\n",
       "      <td>TCAGAGAGACTACHVGGGTATCTAATCC</td>\n",
       "      <td>TCACAGTCCTACGGGNGGCWGCAG</td>\n",
       "      <td>TCACAGT</td>\n",
       "    </tr>\n",
       "    <tr>\n",
       "      <th>49</th>\n",
       "      <td>IllB_85_L_341F_BA</td>\n",
       "      <td>IllA_91_L_805R_BA</td>\n",
       "      <td>T1:2</td>\n",
       "      <td>ACTCTACGACTACHVGGGTATCTAATCC</td>\n",
       "      <td>ATGCGATCCTACGGGNGGCWGCAG</td>\n",
       "      <td>ATGCGAT</td>\n",
       "    </tr>\n",
       "  </tbody>\n",
       "</table>\n",
       "</div>"
      ],
      "text/plain": [
       "       f_primer_ymke1     r_primer_ymke1 sample_ymke1  \\\n",
       "45  IllB_40_L_341F_BA  IllA_48_L_805R_BA         T0:2   \n",
       "46   IllB_4_L_341F_BA  IllA_44_L_805R_BA         T0:3   \n",
       "47  IllB_39_L_341F_BA  IllA_43_L_805R_BA         T0:4   \n",
       "48  IllB_37_L_341F_BA  IllA_42_L_805R_BA         T1:1   \n",
       "49  IllB_85_L_341F_BA  IllA_91_L_805R_BA         T1:2   \n",
       "\n",
       "                   ReversePrimer      LinkerPrimerSequence BarcodeSequence  \n",
       "45  TCGCATAGACTACHVGGGTATCTAATCC  TCAGTCACCTACGGGNGGCWGCAG         TCAGTCA  \n",
       "46  TCGTAGAGACTACHVGGGTATCTAATCC  TATCGCACCTACGGGNGGCWGCAG         TATCGCA  \n",
       "47  TCAGCTAGACTACHVGGGTATCTAATCC  TCACGATCCTACGGGNGGCWGCAG         TCACGAT  \n",
       "48  TCAGAGAGACTACHVGGGTATCTAATCC  TCACAGTCCTACGGGNGGCWGCAG         TCACAGT  \n",
       "49  ACTCTACGACTACHVGGGTATCTAATCC  ATGCGATCCTACGGGNGGCWGCAG         ATGCGAT  "
      ]
     },
     "execution_count": 37,
     "metadata": {},
     "output_type": "execute_result"
    }
   ],
   "source": [
    "primer_sheet[45:55]"
   ]
  },
  {
   "cell_type": "code",
   "execution_count": 38,
   "metadata": {
    "collapsed": true
   },
   "outputs": [],
   "source": [
    "for index, row in primer_sheet.iterrows():\n",
    "    new_value = row['ReversePrimer'][0:7]\n",
    "    primer_sheet.loc[index, 'ReverseBarcodeSequence'] = new_value"
   ]
  },
  {
   "cell_type": "code",
   "execution_count": 39,
   "metadata": {
    "collapsed": false
   },
   "outputs": [
    {
     "name": "stdout",
     "output_type": "stream",
     "text": [
      "       f_primer_ymke1     r_primer_ymke1 #SampleID  \\\n",
      "45  IllB_40_L_341F_BA  IllA_48_L_805R_BA      T0:2   \n",
      "46   IllB_4_L_341F_BA  IllA_44_L_805R_BA      T0:3   \n",
      "47  IllB_39_L_341F_BA  IllA_43_L_805R_BA      T0:4   \n",
      "48  IllB_37_L_341F_BA  IllA_42_L_805R_BA      T1:1   \n",
      "49  IllB_85_L_341F_BA  IllA_91_L_805R_BA      T1:2   \n",
      "\n",
      "                   ReversePrimer      LinkerPrimerSequence BarcodeSequence  \\\n",
      "45  TCGCATAGACTACHVGGGTATCTAATCC  TCAGTCACCTACGGGNGGCWGCAG         TCAGTCA   \n",
      "46  TCGTAGAGACTACHVGGGTATCTAATCC  TATCGCACCTACGGGNGGCWGCAG         TATCGCA   \n",
      "47  TCAGCTAGACTACHVGGGTATCTAATCC  TCACGATCCTACGGGNGGCWGCAG         TCACGAT   \n",
      "48  TCAGAGAGACTACHVGGGTATCTAATCC  TCACAGTCCTACGGGNGGCWGCAG         TCACAGT   \n",
      "49  ACTCTACGACTACHVGGGTATCTAATCC  ATGCGATCCTACGGGNGGCWGCAG         ATGCGAT   \n",
      "\n",
      "   ReverseBarcodeSequence  \n",
      "45                TCGCATA  \n",
      "46                TCGTAGA  \n",
      "47                TCAGCTA  \n",
      "48                TCAGAGA  \n",
      "49                ACTCTAC  \n"
     ]
    }
   ],
   "source": [
    "primer_sheet = primer_sheet.rename(columns={'sample_ymke1': '#SampleID'})\n",
    "print(primer_sheet[45:55])"
   ]
  },
  {
   "cell_type": "markdown",
   "metadata": {},
   "source": [
    "QIIME is particular about what characters are in the SampleID column."
   ]
  },
  {
   "cell_type": "code",
   "execution_count": 40,
   "metadata": {
    "collapsed": false
   },
   "outputs": [
    {
     "data": {
      "text/plain": [
       "['f_primer_ymke1',\n",
       " 'r_primer_ymke1',\n",
       " '#SampleID',\n",
       " 'ReversePrimer',\n",
       " 'LinkerPrimerSequence',\n",
       " 'BarcodeSequence',\n",
       " 'ReverseBarcodeSequence']"
      ]
     },
     "execution_count": 40,
     "metadata": {},
     "output_type": "execute_result"
    }
   ],
   "source": [
    "list(primer_sheet)"
   ]
  },
  {
   "cell_type": "code",
   "execution_count": 41,
   "metadata": {
    "collapsed": false
   },
   "outputs": [],
   "source": [
    "# reorder the columns so the mapping checker doesn't complain about formatting\n",
    "new_index = ['#SampleID',\n",
    " 'BarcodeSequence',\n",
    " 'LinkerPrimerSequence',\n",
    " 'f_primer_ymke1',\n",
    " 'r_primer_ymke1', \n",
    " 'ReversePrimer', \n",
    " 'ReverseBarcodeSequence']\n",
    "\n",
    "primer_sheet = primer_sheet.reindex(columns=new_index)"
   ]
  },
  {
   "cell_type": "code",
   "execution_count": 42,
   "metadata": {
    "collapsed": false
   },
   "outputs": [],
   "source": [
    "primer_sheet['#SampleID'] = primer_sheet['#SampleID'].str.replace(':', '.')\n",
    "primer_sheet['Description'] = primer_sheet['#SampleID']"
   ]
  },
  {
   "cell_type": "code",
   "execution_count": 43,
   "metadata": {
    "collapsed": false
   },
   "outputs": [
    {
     "name": "stdout",
     "output_type": "stream",
     "text": [
      "  #SampleID BarcodeSequence      LinkerPrimerSequence     f_primer_ymke1  \\\n",
      "0       1.1         ACTGACT  ACTGACTCCTACGGGNGGCWGCAG  IllB_98_L_341F_BA   \n",
      "1       2.1         ACTGAGA  ACTGAGACCTACGGGNGGCWGCAG  IllB_99_L_341F_BA   \n",
      "2       3.1         ACTGTGT  ACTGTGTCCTACGGGNGGCWGCAG  IllB_96_L_341F_BA   \n",
      "3       4.1         ACTCGAT  ACTCGATCCTACGGGNGGCWGCAG  IllB_95_L_341F_BA   \n",
      "4       1.2         ACTCAGT  ACTCAGTCCTACGGGNGGCWGCAG  IllB_94_L_341F_BA   \n",
      "\n",
      "      r_primer_ymke1                 ReversePrimer ReverseBarcodeSequence  \\\n",
      "0  IllA_99_L_805R_BA  ACTGAGAGACTACHVGGGTATCTAATCC                ACTGAGA   \n",
      "1  IllA_98_L_805R_BA  ACTGACTGACTACHVGGGTATCTAATCC                ACTGACT   \n",
      "2  IllA_97_L_805R_BA  ACTGATCGACTACHVGGGTATCTAATCC                ACTGATC   \n",
      "3  IllA_96_L_805R_BA  ACTGTGTGACTACHVGGGTATCTAATCC                ACTGTGT   \n",
      "4  IllA_95_L_805R_BA  ACTCGATGACTACHVGGGTATCTAATCC                ACTCGAT   \n",
      "\n",
      "  Description  \n",
      "0         1.1  \n",
      "1         2.1  \n",
      "2         3.1  \n",
      "3         4.1  \n",
      "4         1.2  \n"
     ]
    },
    {
     "data": {
      "text/plain": [
       "['#SampleID',\n",
       " 'BarcodeSequence',\n",
       " 'LinkerPrimerSequence',\n",
       " 'f_primer_ymke1',\n",
       " 'r_primer_ymke1',\n",
       " 'ReversePrimer',\n",
       " 'ReverseBarcodeSequence',\n",
       " 'Description']"
      ]
     },
     "execution_count": 43,
     "metadata": {},
     "output_type": "execute_result"
    }
   ],
   "source": [
    "print(primer_sheet[0:5])\n",
    "list(primer_sheet)"
   ]
  },
  {
   "cell_type": "markdown",
   "metadata": {},
   "source": [
    "### Change the names of duplicated samples"
   ]
  },
  {
   "cell_type": "code",
   "execution_count": 44,
   "metadata": {
    "collapsed": false
   },
   "outputs": [
    {
     "data": {
      "text/plain": [
       "dict_values([['IllB_42_L_341F_BA', 'IllA_51_L_805R_BA'], ['IllB_43_L_341F_BA', 'IllA_52_L_805R_BA'], ['IllB_45_L_341F_BA', 'IllA_53_L_805R_BA'], ['IllB_48_L_341F_BA', 'IllA_54_L_805R_BA']])"
      ]
     },
     "execution_count": 44,
     "metadata": {},
     "output_type": "execute_result"
    }
   ],
   "source": [
    "repeated_records_list = ['1.12','2.12','3.12','4.12']\n",
    "\n",
    "records_2b_changed_dict = {'1.13' : ['IllB_48_L_341F_BA','IllA_54_L_805R_BA'], \n",
    "                      '2.13' : ['IllB_45_L_341F_BA','IllA_53_L_805R_BA'],\n",
    "                      '3.13' : ['IllB_43_L_341F_BA','IllA_52_L_805R_BA'],\n",
    "                      '4.13' : ['IllB_42_L_341F_BA','IllA_51_L_805R_BA']}\n",
    "records_2b_changed_dict.viewvalues()"
   ]
  },
  {
   "cell_type": "code",
   "execution_count": 45,
   "metadata": {
    "collapsed": false
   },
   "outputs": [],
   "source": [
    "for index, row in primer_sheet.iterrows():\n",
    "        if row['#SampleID'] in repeated_records_list:\n",
    "            #print(row['#SampleID'])\n",
    "            for key, values in records_2b_changed_dict.iteritems():\n",
    "                if values[0] == row['f_primer_ymke1'] and values[1] == row['r_primer_ymke1']:\n",
    "                    #print(values[0], row['f_primer_ymke1'], values[1], row['r_primer_ymke1'])\n",
    "                    primer_sheet.set_value(index, '#SampleID', key)"
   ]
  },
  {
   "cell_type": "code",
   "execution_count": 46,
   "metadata": {
    "collapsed": true
   },
   "outputs": [],
   "source": [
    "primer_sheet['Description'] = primer_sheet['#SampleID']"
   ]
  },
  {
   "cell_type": "code",
   "execution_count": 47,
   "metadata": {
    "collapsed": true
   },
   "outputs": [],
   "source": [
    "mapping_filename = \"barcode_sequences_ymke1.tsv\"\n",
    "primer_sheet.to_csv(mapping_filename, sep=\"\\t\", index=False)"
   ]
  },
  {
   "cell_type": "markdown",
   "metadata": {},
   "source": [
    "### Validate the metadata mapping file"
   ]
  },
  {
   "cell_type": "markdown",
   "metadata": {},
   "source": [
    "Validate the mapping file to make sure it is compatible with QIIME with the QIIME script."
   ]
  },
  {
   "cell_type": "code",
   "execution_count": 48,
   "metadata": {
    "collapsed": false
   },
   "outputs": [
    {
     "name": "stdout",
     "output_type": "stream",
     "text": [
      "No errors or warnings were found in mapping file.\r\n"
     ]
    }
   ],
   "source": [
    "!validate_mapping_file.py -m barcode_sequences_ymke1.tsv"
   ]
  },
  {
   "cell_type": "markdown",
   "metadata": {},
   "source": [
    "Errors and warnings pertain to duplicate barcode sequences. Of course it is not a duplicate when the primer sequence is included, and hopefully the next step handles this. Formatting seems fine otherwise."
   ]
  },
  {
   "cell_type": "markdown",
   "metadata": {},
   "source": [
    "### Merging the FASTQ files"
   ]
  },
  {
   "cell_type": "markdown",
   "metadata": {},
   "source": [
    "We can try the program [PEAR](http://sco.h-its.org/exelixis/web/software/pear/). Changed the path to reflect it on your system."
   ]
  },
  {
   "cell_type": "code",
   "execution_count": 22,
   "metadata": {
    "collapsed": false
   },
   "outputs": [
    {
     "name": "stdout",
     "output_type": "stream",
     "text": [
      "/bin/sh: 1: /pear-0.9.10-bin-64/pear-0.9.10-bin-64: not found\r\n"
     ]
    }
   ],
   "source": [
    "!/pear-0.9.10-bin-64/pear-0.9.10-bin-64 -j 2 -f Ymke1_S1_L001_R1_001.fastq -r Ymke1_S1_L001_R2_001.fastq -o Ymke1_S1_L001_merged.fastq"
   ]
  },
  {
   "cell_type": "markdown",
   "metadata": {},
   "source": [
    "Seems like this one had no issues...perhaps the QIIME script is not as robust. This merge takes a long time to run which is not reflected in the output."
   ]
  }
 ],
 "metadata": {
  "anaconda-cloud": {},
  "kernelspec": {
   "display_name": "Python [default]",
   "language": "python",
   "name": "python2"
  },
  "language_info": {
   "codemirror_mode": {
    "name": "ipython",
    "version": 2
   },
   "file_extension": ".py",
   "mimetype": "text/x-python",
   "name": "python",
   "nbconvert_exporter": "python",
   "pygments_lexer": "ipython2",
   "version": "2.7.12"
  }
 },
 "nbformat": 4,
 "nbformat_minor": 1
}
